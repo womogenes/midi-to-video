{
 "cells": [
  {
   "attachments": {},
   "cell_type": "markdown",
   "metadata": {},
   "source": [
    "## Test the `moviepy` library\n",
    "\n",
    "Docs: https://zulko.github.io/moviepy/getting_started"
   ]
  },
  {
   "cell_type": "code",
   "execution_count": 3,
   "metadata": {},
   "outputs": [],
   "source": [
    "import moviepy.editor as mpe\n",
    "import moviepy as mp\n",
    "import json\n",
    "from tqdm import tqdm\n",
    "import os\n",
    "import numpy as np"
   ]
  },
  {
   "cell_type": "code",
   "execution_count": 1,
   "metadata": {},
   "outputs": [],
   "source": [
    "part = 2\n",
    "note_clip_dir = f\"./data/recordings/violin_{part}/text\"\n",
    "sequence_dir = f\"./data/sequence/bach_double/violin_{part}.txt\"\n",
    "output_path = f\"./output/violin_{part}.mp4\""
   ]
  },
  {
   "cell_type": "code",
   "execution_count": 2,
   "metadata": {},
   "outputs": [],
   "source": [
    "# Grab note names\n",
    "with open(\"../data/note_names.txt\") as fin:\n",
    "    items = [line.split(\",\") for line in fin.read().strip().split(\"\\n\")]\n",
    "    name2code = {name: int(code) for name, code in items}\n",
    "    code2name = {int(code): name for name, code in items}\n",
    "\n",
    "note_names = [name for name, _ in items]"
   ]
  },
  {
   "cell_type": "code",
   "execution_count": 4,
   "metadata": {},
   "outputs": [],
   "source": [
    "# Load all clips\n",
    "# Takes ~30 seconds\n",
    "note2clip = {}"
   ]
  },
  {
   "cell_type": "code",
   "execution_count": 5,
   "metadata": {},
   "outputs": [
    {
     "name": "stderr",
     "output_type": "stream",
     "text": [
      "100%|███████████████████████████████████████████████████████████████| 33/33 [00:11<00:00,  2.80it/s]\n"
     ]
    }
   ],
   "source": [
    "for note in tqdm(note_names, ncols=100):\n",
    "    note2clip[note] = mpe.VideoFileClip(os.path.join(note_clip_dir, f\"{note}.mp4\"))"
   ]
  },
  {
   "cell_type": "code",
   "execution_count": 6,
   "metadata": {},
   "outputs": [
    {
     "name": "stdout",
     "output_type": "stream",
     "text": [
      "Min duration: 2.35\n",
      "Moviepy - Building video ./output/chromatic_violin_2.mp4.\n",
      "MoviePy - Writing audio in chromatic_violin_2TEMP_MPY_wvf_snd.mp3\n"
     ]
    },
    {
     "name": "stderr",
     "output_type": "stream",
     "text": [
      "                                                                    \r"
     ]
    },
    {
     "name": "stdout",
     "output_type": "stream",
     "text": [
      "MoviePy - Done.\n",
      "Moviepy - Writing video ./output/chromatic_violin_2.mp4\n",
      "\n"
     ]
    },
    {
     "name": "stderr",
     "output_type": "stream",
     "text": [
      "                                                              \r"
     ]
    },
    {
     "name": "stdout",
     "output_type": "stream",
     "text": [
      "Moviepy - Done !\n",
      "Moviepy - video ready ./output/chromatic_violin_2.mp4\n"
     ]
    }
   ],
   "source": [
    "# Chromatic stitching\n",
    "min_duration = min([note2clip[note].duration for note in note_names])\n",
    "print(f\"Min duration:\", min_duration)\n",
    "\n",
    "chromatic_clips = []\n",
    "for i, note in enumerate(note_names):\n",
    "    # Accelerando!\n",
    "    if i <= 4:\n",
    "        duration = 1\n",
    "    elif i <= 8:\n",
    "        duration = 3/4\n",
    "    elif i <= 12:\n",
    "        duration = 1/2\n",
    "    elif i < len(note_names) - 1:\n",
    "        duration = np.interp(i, [11, len(note_names) - 1], [1/2, 1/8])\n",
    "    else:\n",
    "        duration = 2.4\n",
    "\n",
    "    chromatic_clips.append(\n",
    "      note2clip[note].subclip(0, duration)\n",
    "        .fx(mp.audio.fx.all.audio_fadeout, 1/8 * 0.5)\n",
    "    )\n",
    "concat_clips = mp.editor.concatenate_videoclips(chromatic_clips)\n",
    "\n",
    "# ~15 seconds\n",
    "concat_clips.write_videofile(f\"./output/chromatic_violin_{part}.mp4\")"
   ]
  },
  {
   "cell_type": "code",
   "execution_count": 7,
   "metadata": {},
   "outputs": [],
   "source": [
    "# Grab piece data\n",
    "notes = []\n",
    "with open(sequence_dir) as fin:\n",
    "    notes = [tuple(map(int, line.split(\",\"))) for line in fin.read().strip().split(\"\\n\")]"
   ]
  },
  {
   "attachments": {},
   "cell_type": "markdown",
   "metadata": {},
   "source": [
    "## Render video"
   ]
  },
  {
   "cell_type": "code",
   "execution_count": 8,
   "metadata": {},
   "outputs": [],
   "source": [
    "# Woohoo render the video\n",
    "# https://stackoverflow.com/questions/28758474/how-to-concatenate-videos-in-moviepy\n",
    "\n",
    "all_clips = []\n",
    "factor = 0.15\n",
    "\n",
    "for timestamp, code, duration in notes:\n",
    "    all_clips.append(\n",
    "        note2clip[code2name[code]].subclip(0, duration * factor)\n",
    "            .fx(mp.audio.fx.all.audio_fadeout, factor * 0.25)\n",
    "    )\n",
    "\n",
    "# ~50 seconds\n",
    "concat_clips = mp.editor.concatenate_videoclips(all_clips)"
   ]
  },
  {
   "cell_type": "code",
   "execution_count": 9,
   "metadata": {},
   "outputs": [
    {
     "name": "stdout",
     "output_type": "stream",
     "text": [
      "Moviepy - Building video ./output/violin_2.mp4.\n",
      "MoviePy - Writing audio in violin_2TEMP_MPY_wvf_snd.mp3\n"
     ]
    },
    {
     "name": "stderr",
     "output_type": "stream",
     "text": [
      "                                                                     \r"
     ]
    },
    {
     "name": "stdout",
     "output_type": "stream",
     "text": [
      "MoviePy - Done.\n",
      "Moviepy - Writing video ./output/violin_2.mp4\n",
      "\n"
     ]
    },
    {
     "name": "stderr",
     "output_type": "stream",
     "text": [
      "                                                                \r"
     ]
    },
    {
     "name": "stdout",
     "output_type": "stream",
     "text": [
      "Moviepy - Done !\n",
      "Moviepy - video ready ./output/violin_2.mp4\n"
     ]
    }
   ],
   "source": [
    "# ~30 seconds for building\n",
    "# ~5-6 minutes for writing\n",
    "concat_clips.write_videofile(output_path)"
   ]
  }
 ],
 "metadata": {
  "kernelspec": {
   "display_name": "Python 3",
   "language": "python",
   "name": "python3"
  },
  "language_info": {
   "codemirror_mode": {
    "name": "ipython",
    "version": 3
   },
   "file_extension": ".py",
   "mimetype": "text/x-python",
   "name": "python",
   "nbconvert_exporter": "python",
   "pygments_lexer": "ipython3",
   "version": "3.10.5"
  },
  "orig_nbformat": 4
 },
 "nbformat": 4,
 "nbformat_minor": 2
}
