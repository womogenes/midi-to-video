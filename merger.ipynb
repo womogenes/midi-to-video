{
 "cells": [
  {
   "cell_type": "code",
   "execution_count": 1,
   "metadata": {},
   "outputs": [],
   "source": [
    "# Put two videos side-by-side\n",
    "\n",
    "import moviepy as mp\n",
    "import moviepy.editor as mpe"
   ]
  },
  {
   "cell_type": "code",
   "execution_count": 2,
   "metadata": {},
   "outputs": [],
   "source": [
    "# This is for creating chromatic scale\n",
    "clip1 = mpe.VideoFileClip(\"./output/[v1 0.15] violin_1.mp4\")\n",
    "clip2 = mpe.VideoFileClip(\"./output/[v1 0.15] violin_2.mp4\")\n",
    "\n",
    "# clip1 = mpe.VideoFileClip(\"./output/chromatic_violin_1.mp4\")\n",
    "# clip2 = mpe.VideoFileClip(\"./output/chromatic_violin_2.mp4\")\n",
    "\n",
    "# Crop the videos\n",
    "clip1 = clip1.fx(mp.video.fx.all.crop, x1=960, y1=0, x2=1920, y2=1080)\n",
    "clip2 = clip2.fx(mp.video.fx.all.crop, x1=0, y1=0, x2=960, y2=1080)"
   ]
  },
  {
   "cell_type": "code",
   "execution_count": 3,
   "metadata": {},
   "outputs": [
    {
     "name": "stdout",
     "output_type": "stream",
     "text": [
      "Moviepy - Building video ./output/final.mp4.\n",
      "MoviePy - Writing audio in finalTEMP_MPY_wvf_snd.mp3\n"
     ]
    },
    {
     "name": "stderr",
     "output_type": "stream",
     "text": [
      "                                                                   \r"
     ]
    },
    {
     "name": "stdout",
     "output_type": "stream",
     "text": [
      "MoviePy - Done.\n",
      "Moviepy - Writing video ./output/final.mp4\n",
      "\n"
     ]
    },
    {
     "name": "stderr",
     "output_type": "stream",
     "text": [
      "                                                              \r"
     ]
    },
    {
     "name": "stdout",
     "output_type": "stream",
     "text": [
      "Moviepy - Done !\n",
      "Moviepy - video ready ./output/final.mp4\n"
     ]
    }
   ],
   "source": [
    "# final_clips = mpe.clips_array([[clip2, clip1]])\n",
    "\n",
    "# ~30 sec for building\n",
    "# ~4 min for writing\n",
    "final_clips = mpe.clips_array([[clip2, clip1]])\n",
    "final_clips.write_videofile(f\"./output/final.mp4\")"
   ]
  }
 ],
 "metadata": {
  "kernelspec": {
   "display_name": "Python 3",
   "language": "python",
   "name": "python3"
  },
  "language_info": {
   "codemirror_mode": {
    "name": "ipython",
    "version": 3
   },
   "file_extension": ".py",
   "mimetype": "text/x-python",
   "name": "python",
   "nbconvert_exporter": "python",
   "pygments_lexer": "ipython3",
   "version": "3.10.5"
  },
  "orig_nbformat": 4
 },
 "nbformat": 4,
 "nbformat_minor": 2
}
